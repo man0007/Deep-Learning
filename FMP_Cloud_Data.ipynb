{
  "nbformat": 4,
  "nbformat_minor": 0,
  "metadata": {
    "colab": {
      "name": "FMP Cloud Data",
      "provenance": [],
      "collapsed_sections": [],
      "include_colab_link": true
    },
    "kernelspec": {
      "display_name": "Python 3",
      "name": "python3"
    }
  },
  "cells": [
    {
      "cell_type": "markdown",
      "metadata": {
        "id": "view-in-github",
        "colab_type": "text"
      },
      "source": [
        "<a href=\"https://colab.research.google.com/github/man0007/Deep-Learning/blob/master/FMP_Cloud_Data.ipynb\" target=\"_parent\"><img src=\"https://colab.research.google.com/assets/colab-badge.svg\" alt=\"Open In Colab\"/></a>"
      ]
    },
    {
      "cell_type": "code",
      "metadata": {
        "colab": {
          "base_uri": "https://localhost:8080/"
        },
        "id": "Q_GVIm5-dd9o",
        "outputId": "c776d67c-8cc1-467f-aae6-d3c1415440ef"
      },
      "source": [
        "from google.colab import drive\n",
        "drive.mount('/content/drive')"
      ],
      "execution_count": 1,
      "outputs": [
        {
          "output_type": "stream",
          "text": [
            "Mounted at /content/drive\n"
          ],
          "name": "stdout"
        }
      ]
    },
    {
      "cell_type": "code",
      "metadata": {
        "id": "PtGcAS1Y3_Al"
      },
      "source": [
        "from  urllib.request import urlopen\n",
        "import matplotlib.pyplot as plt\n",
        "import pandas as pd\n",
        "import numpy as np\n",
        "import datetime\n",
        "import glob\n",
        "import json\n",
        "import os"
      ],
      "execution_count": 17,
      "outputs": []
    },
    {
      "cell_type": "code",
      "metadata": {
        "colab": {
          "base_uri": "https://localhost:8080/",
          "height": 35
        },
        "id": "LC4-eoKidp1O",
        "outputId": "f35100f8-c291-4e31-f830-a5b8d975d463"
      },
      "source": [
        "import os\n",
        "# Change the directory on which all the input files and folders are present\n",
        "os.chdir('/content/drive/MyDrive/Colab_Projects/FMP_cloud')\n",
        "os.getcwd()"
      ],
      "execution_count": 8,
      "outputs": [
        {
          "output_type": "execute_result",
          "data": {
            "application/vnd.google.colaboratory.intrinsic+json": {
              "type": "string"
            },
            "text/plain": [
              "'/content/drive/MyDrive/Colab_Projects/FMP_cloud'"
            ]
          },
          "metadata": {
            "tags": []
          },
          "execution_count": 8
        }
      ]
    },
    {
      "cell_type": "code",
      "metadata": {
        "id": "bV3d02ul6WZ4",
        "colab": {
          "base_uri": "https://localhost:8080/",
          "height": 1000
        },
        "outputId": "250441a1-8f62-435d-d3b0-f9e0c543ac89"
      },
      "source": [
        "start_date = '2004-01-02'\n",
        "\n",
        "FMP_data_csv = glob.glob(\"FMP_data_cumulative/*.csv\")\n",
        "FMP_data_csv.sort(key=os.path.getmtime)\n",
        "if len(FMP_data_csv)!=0:\n",
        "  previous_start_date = os.path.basename(FMP_data_csv[-1]).replace('.csv','')\n",
        "  start_date_obj = datetime.datetime.strptime(previous_start_date, \"%Y-%m-%d\").date()+datetime.timedelta(1)\n",
        "  start_date = str(start_date_obj)\n",
        "else:\n",
        "  previous_start_date = False\n",
        "  start_date_obj = datetime.datetime.strptime(start_date, \"%Y-%m-%d\").date()\n",
        "\n",
        "last_date = False\n",
        "All_days_stock_data=[]\n",
        "start = True\n",
        "\n",
        "while last_date != True:\n",
        "  url = 'https://fmpcloud.io/api/v4/historical-price/AAPL/1/minute/'+start_date+'/'+start_date+'?apikey=ec85650fb218c8bac0fd8b41d01fe624'\n",
        "  try:\n",
        "    response = urlopen(url)\n",
        "  except Exception as e:\n",
        "    print(e,'weekends or holidays:',start_date_obj)\n",
        "    if start_date_obj == datetime.datetime.now().date():\n",
        "      last_date = True\n",
        "    else:\n",
        "      start_date_obj = start_date_obj+datetime.timedelta(1)\n",
        "      start_date = str(start_date_obj)\n",
        "    continue\n",
        "  data = json.loads(response.read())\n",
        "  count = 0\n",
        "  stock_data_cumulative = {'open':[], 'high':[], 'low':[], 'close':[], 'volume':[], 'date':[], 'time':[], 't-diff':[], 'x-axis':[]}\n",
        "  for enm, value in enumerate(data['results']):\n",
        "    stock_data_cumulative['open'].append(value['o'])\n",
        "    stock_data_cumulative['high'].append(value['h'])\n",
        "    stock_data_cumulative['low'].append(value['l'])\n",
        "    stock_data_cumulative['close'].append(value['c'])\n",
        "    stock_data_cumulative['volume'].append(value['v'])\n",
        "    stock_data_cumulative['date'].append(value['formated'])\n",
        "    stock_data_cumulative['time'].append(value['t'])\n",
        "    if enm == 0:\n",
        "      stock_data_cumulative['t-diff'].append(0)\n",
        "      count = count+1\n",
        "      stock_data_cumulative['x-axis'].append(count)\n",
        "    elif value['t']-data['results'][enm-1]['t'] == 60000:\n",
        "      stock_data_cumulative['t-diff'].append(value['t']-data['results'][enm-1]['t'])\n",
        "      count = count+1\n",
        "      stock_data_cumulative['x-axis'].append(count)\n",
        "    elif (value['t']-data['results'][enm-1]['t'] > 60000):\n",
        "      stock_data_cumulative['t-diff'].append(value['t']-data['results'][enm-1]['t'])\n",
        "      count = count+1\n",
        "      stock_data_cumulative['x-axis'].append(count)\n",
        "      for i in range(int((value['t']-data['results'][enm-1]['t'])/60000)-1):\n",
        "        stock_data_cumulative['open'].append(value['o'])\n",
        "        stock_data_cumulative['high'].append(value['h'])\n",
        "        stock_data_cumulative['low'].append(value['l'])\n",
        "        stock_data_cumulative['close'].append(value['c'])\n",
        "        stock_data_cumulative['volume'].append(value['v'])\n",
        "        stock_data_cumulative['date'].append(value['formated'])\n",
        "        stock_data_cumulative['time'].append(value['t'])\n",
        "        stock_data_cumulative['t-diff'].append(value['t']-data['results'][enm-1]['t'])\n",
        "        count = count+1\n",
        "        stock_data_cumulative['x-axis'].append(count)\n",
        "\n",
        "  df_stock_data_cumulative = pd.DataFrame.from_dict(stock_data_cumulative)\n",
        "\n",
        "  if start==True and previous_start_date != False:\n",
        "    All_days_stock_data = pd.concat([pd.read_csv('FMP_data_cumulative/'+previous_start_date+'.csv'), df_stock_data_cumulative], ignore_index=True)\n",
        "    All_days_stock_data.to_csv('FMP_data_cumulative/'+start_date+'.csv')\n",
        "    open('FMP_data_cumulative/'+previous_start_date+'.csv', 'w').close()\n",
        "    os.remove('FMP_data_cumulative/'+previous_start_date+'.csv')\n",
        "    previous_start_date = start_date\n",
        "    start = False\n",
        "  elif start==True and previous_start_date == False:\n",
        "    All_days_stock_data = df_stock_data_cumulative\n",
        "    All_days_stock_data.to_csv('FMP_data_cumulative/'+start_date+'.csv')\n",
        "    previous_start_date = start_date\n",
        "    start = False\n",
        "  elif start == False and previous_start_date != False:\n",
        "    All_days_stock_data = pd.concat([All_days_stock_data,df_stock_data_cumulative], ignore_index=True)\n",
        "    All_days_stock_data.to_csv('FMP_data_cumulative/'+start_date+'.csv')\n",
        "    open('FMP_data_cumulative/'+previous_start_date+'.csv', 'w').close()\n",
        "    os.remove('FMP_data_cumulative/'+previous_start_date+'.csv')\n",
        "    previous_start_date = start_date\n",
        "\n",
        "  if start_date_obj == datetime.datetime.now().date():\n",
        "    last_date = True\n",
        "  else:\n",
        "    start_date_obj = start_date_obj+datetime.timedelta(1)\n",
        "    start_date = str(start_date_obj)\n",
        "    "
      ],
      "execution_count": 27,
      "outputs": [
        {
          "output_type": "stream",
          "text": [
            "))))))))))))))))))))1\n",
            "))))))))))))))))))))2\n",
            "))))))))))))))))))))1\n",
            "))))))))))))))))))))2\n",
            "HTTP Error 404:  weekends or holidays: 2008-05-17\n",
            "HTTP Error 404:  weekends or holidays: 2008-05-18\n",
            "))))))))))))))))))))1\n",
            "))))))))))))))))))))2\n",
            "))))))))))))))))))))1\n",
            "))))))))))))))))))))2\n",
            "))))))))))))))))))))1\n",
            "))))))))))))))))))))2\n",
            "))))))))))))))))))))1\n",
            "))))))))))))))))))))2\n",
            "))))))))))))))))))))1\n",
            "))))))))))))))))))))2\n",
            "HTTP Error 404:  weekends or holidays: 2008-05-24\n",
            "HTTP Error 404:  weekends or holidays: 2008-05-25\n",
            "HTTP Error 404:  weekends or holidays: 2008-05-26\n",
            "))))))))))))))))))))1\n",
            "))))))))))))))))))))2\n",
            "))))))))))))))))))))1\n",
            "))))))))))))))))))))2\n",
            "))))))))))))))))))))1\n",
            "))))))))))))))))))))2\n",
            "))))))))))))))))))))1\n",
            "))))))))))))))))))))2\n",
            "HTTP Error 404:  weekends or holidays: 2008-05-31\n",
            "HTTP Error 404:  weekends or holidays: 2008-06-01\n",
            "))))))))))))))))))))1\n",
            "))))))))))))))))))))2\n",
            "))))))))))))))))))))1\n",
            "))))))))))))))))))))2\n",
            "))))))))))))))))))))1\n",
            "))))))))))))))))))))2\n",
            "))))))))))))))))))))1\n",
            "))))))))))))))))))))2\n",
            "))))))))))))))))))))1\n",
            "))))))))))))))))))))2\n",
            "HTTP Error 404:  weekends or holidays: 2008-06-07\n",
            "HTTP Error 404:  weekends or holidays: 2008-06-08\n"
          ],
          "name": "stdout"
        },
        {
          "output_type": "error",
          "ename": "KeyboardInterrupt",
          "evalue": "ignored",
          "traceback": [
            "\u001b[0;31m---------------------------------------------------------------------------\u001b[0m",
            "\u001b[0;31mKeyboardInterrupt\u001b[0m                         Traceback (most recent call last)",
            "\u001b[0;32m<ipython-input-27-b8a386a2448f>\u001b[0m in \u001b[0;36m<module>\u001b[0;34m()\u001b[0m\n\u001b[1;32m     78\u001b[0m   \u001b[0;32melif\u001b[0m \u001b[0mstart\u001b[0m \u001b[0;34m==\u001b[0m \u001b[0;32mFalse\u001b[0m \u001b[0;32mand\u001b[0m \u001b[0mprevious_start_date\u001b[0m \u001b[0;34m!=\u001b[0m \u001b[0;32mFalse\u001b[0m\u001b[0;34m:\u001b[0m\u001b[0;34m\u001b[0m\u001b[0;34m\u001b[0m\u001b[0m\n\u001b[1;32m     79\u001b[0m     \u001b[0mAll_days_stock_data\u001b[0m \u001b[0;34m=\u001b[0m \u001b[0mpd\u001b[0m\u001b[0;34m.\u001b[0m\u001b[0mconcat\u001b[0m\u001b[0;34m(\u001b[0m\u001b[0;34m[\u001b[0m\u001b[0mAll_days_stock_data\u001b[0m\u001b[0;34m,\u001b[0m\u001b[0mdf_stock_data_cumulative\u001b[0m\u001b[0;34m]\u001b[0m\u001b[0;34m)\u001b[0m\u001b[0;34m\u001b[0m\u001b[0;34m\u001b[0m\u001b[0m\n\u001b[0;32m---> 80\u001b[0;31m     \u001b[0mAll_days_stock_data\u001b[0m\u001b[0;34m.\u001b[0m\u001b[0mto_csv\u001b[0m\u001b[0;34m(\u001b[0m\u001b[0;34m'FMP_data_cumulative/'\u001b[0m\u001b[0;34m+\u001b[0m\u001b[0mstart_date\u001b[0m\u001b[0;34m+\u001b[0m\u001b[0;34m'.csv'\u001b[0m\u001b[0;34m)\u001b[0m\u001b[0;34m\u001b[0m\u001b[0;34m\u001b[0m\u001b[0m\n\u001b[0m\u001b[1;32m     81\u001b[0m     \u001b[0mprint\u001b[0m\u001b[0;34m(\u001b[0m\u001b[0;34m'))))))))))))))))))))1'\u001b[0m\u001b[0;34m)\u001b[0m\u001b[0;34m\u001b[0m\u001b[0;34m\u001b[0m\u001b[0m\n\u001b[1;32m     82\u001b[0m     \u001b[0mopen\u001b[0m\u001b[0;34m(\u001b[0m\u001b[0;34m'FMP_data_cumulative/'\u001b[0m\u001b[0;34m+\u001b[0m\u001b[0mprevious_start_date\u001b[0m\u001b[0;34m+\u001b[0m\u001b[0;34m'.csv'\u001b[0m\u001b[0;34m,\u001b[0m \u001b[0;34m'w'\u001b[0m\u001b[0;34m)\u001b[0m\u001b[0;34m.\u001b[0m\u001b[0mclose\u001b[0m\u001b[0;34m(\u001b[0m\u001b[0;34m)\u001b[0m\u001b[0;34m\u001b[0m\u001b[0;34m\u001b[0m\u001b[0m\n",
            "\u001b[0;32m/usr/local/lib/python3.7/dist-packages/pandas/core/generic.py\u001b[0m in \u001b[0;36mto_csv\u001b[0;34m(self, path_or_buf, sep, na_rep, float_format, columns, header, index, index_label, mode, encoding, compression, quoting, quotechar, line_terminator, chunksize, date_format, doublequote, escapechar, decimal, errors)\u001b[0m\n\u001b[1;32m   3168\u001b[0m             \u001b[0mdecimal\u001b[0m\u001b[0;34m=\u001b[0m\u001b[0mdecimal\u001b[0m\u001b[0;34m,\u001b[0m\u001b[0;34m\u001b[0m\u001b[0;34m\u001b[0m\u001b[0m\n\u001b[1;32m   3169\u001b[0m         )\n\u001b[0;32m-> 3170\u001b[0;31m         \u001b[0mformatter\u001b[0m\u001b[0;34m.\u001b[0m\u001b[0msave\u001b[0m\u001b[0;34m(\u001b[0m\u001b[0;34m)\u001b[0m\u001b[0;34m\u001b[0m\u001b[0;34m\u001b[0m\u001b[0m\n\u001b[0m\u001b[1;32m   3171\u001b[0m \u001b[0;34m\u001b[0m\u001b[0m\n\u001b[1;32m   3172\u001b[0m         \u001b[0;32mif\u001b[0m \u001b[0mpath_or_buf\u001b[0m \u001b[0;32mis\u001b[0m \u001b[0;32mNone\u001b[0m\u001b[0;34m:\u001b[0m\u001b[0;34m\u001b[0m\u001b[0;34m\u001b[0m\u001b[0m\n",
            "\u001b[0;32m/usr/local/lib/python3.7/dist-packages/pandas/io/formats/csvs.py\u001b[0m in \u001b[0;36msave\u001b[0;34m(self)\u001b[0m\n\u001b[1;32m    204\u001b[0m             )\n\u001b[1;32m    205\u001b[0m \u001b[0;34m\u001b[0m\u001b[0m\n\u001b[0;32m--> 206\u001b[0;31m             \u001b[0mself\u001b[0m\u001b[0;34m.\u001b[0m\u001b[0m_save\u001b[0m\u001b[0;34m(\u001b[0m\u001b[0;34m)\u001b[0m\u001b[0;34m\u001b[0m\u001b[0;34m\u001b[0m\u001b[0m\n\u001b[0m\u001b[1;32m    207\u001b[0m \u001b[0;34m\u001b[0m\u001b[0m\n\u001b[1;32m    208\u001b[0m         \u001b[0;32mfinally\u001b[0m\u001b[0;34m:\u001b[0m\u001b[0;34m\u001b[0m\u001b[0;34m\u001b[0m\u001b[0m\n",
            "\u001b[0;32m/usr/local/lib/python3.7/dist-packages/pandas/io/formats/csvs.py\u001b[0m in \u001b[0;36m_save\u001b[0;34m(self)\u001b[0m\n\u001b[1;32m    326\u001b[0m                 \u001b[0;32mbreak\u001b[0m\u001b[0;34m\u001b[0m\u001b[0;34m\u001b[0m\u001b[0m\n\u001b[1;32m    327\u001b[0m \u001b[0;34m\u001b[0m\u001b[0m\n\u001b[0;32m--> 328\u001b[0;31m             \u001b[0mself\u001b[0m\u001b[0;34m.\u001b[0m\u001b[0m_save_chunk\u001b[0m\u001b[0;34m(\u001b[0m\u001b[0mstart_i\u001b[0m\u001b[0;34m,\u001b[0m \u001b[0mend_i\u001b[0m\u001b[0;34m)\u001b[0m\u001b[0;34m\u001b[0m\u001b[0;34m\u001b[0m\u001b[0m\n\u001b[0m\u001b[1;32m    329\u001b[0m \u001b[0;34m\u001b[0m\u001b[0m\n\u001b[1;32m    330\u001b[0m     \u001b[0;32mdef\u001b[0m \u001b[0m_save_chunk\u001b[0m\u001b[0;34m(\u001b[0m\u001b[0mself\u001b[0m\u001b[0;34m,\u001b[0m \u001b[0mstart_i\u001b[0m\u001b[0;34m:\u001b[0m \u001b[0mint\u001b[0m\u001b[0;34m,\u001b[0m \u001b[0mend_i\u001b[0m\u001b[0;34m:\u001b[0m \u001b[0mint\u001b[0m\u001b[0;34m)\u001b[0m \u001b[0;34m->\u001b[0m \u001b[0;32mNone\u001b[0m\u001b[0;34m:\u001b[0m\u001b[0;34m\u001b[0m\u001b[0;34m\u001b[0m\u001b[0m\n",
            "\u001b[0;32m/usr/local/lib/python3.7/dist-packages/pandas/io/formats/csvs.py\u001b[0m in \u001b[0;36m_save_chunk\u001b[0;34m(self, start_i, end_i)\u001b[0m\n\u001b[1;32m    360\u001b[0m         )\n\u001b[1;32m    361\u001b[0m \u001b[0;34m\u001b[0m\u001b[0m\n\u001b[0;32m--> 362\u001b[0;31m         \u001b[0mlibwriters\u001b[0m\u001b[0;34m.\u001b[0m\u001b[0mwrite_csv_rows\u001b[0m\u001b[0;34m(\u001b[0m\u001b[0mself\u001b[0m\u001b[0;34m.\u001b[0m\u001b[0mdata\u001b[0m\u001b[0;34m,\u001b[0m \u001b[0mix\u001b[0m\u001b[0;34m,\u001b[0m \u001b[0mself\u001b[0m\u001b[0;34m.\u001b[0m\u001b[0mnlevels\u001b[0m\u001b[0;34m,\u001b[0m \u001b[0mself\u001b[0m\u001b[0;34m.\u001b[0m\u001b[0mcols\u001b[0m\u001b[0;34m,\u001b[0m \u001b[0mself\u001b[0m\u001b[0;34m.\u001b[0m\u001b[0mwriter\u001b[0m\u001b[0;34m)\u001b[0m\u001b[0;34m\u001b[0m\u001b[0;34m\u001b[0m\u001b[0m\n\u001b[0m",
            "\u001b[0;32mpandas/_libs/writers.pyx\u001b[0m in \u001b[0;36mpandas._libs.writers.write_csv_rows\u001b[0;34m()\u001b[0m\n",
            "\u001b[0;31mKeyboardInterrupt\u001b[0m: "
          ]
        }
      ]
    },
    {
      "cell_type": "markdown",
      "metadata": {
        "id": "lsh3xN6E07Uz"
      },
      "source": [
        "# Maintaining the stock valued that are affected due to stock splits"
      ]
    },
    {
      "cell_type": "code",
      "metadata": {
        "colab": {
          "base_uri": "https://localhost:8080/"
        },
        "id": "RyGD5Fe61OdZ",
        "outputId": "53dbd213-1564-42ed-ba57-7511000edc1d"
      },
      "source": [
        "import requests\n",
        "\n",
        "url = \"https://apidojo-yahoo-finance-v1.p.rapidapi.com/stock/v3/get-historical-data\"\n",
        "\n",
        "querystring = {\"symbol\":\"AAPL\"}\n",
        "\n",
        "headers = {\n",
        "    'x-rapidapi-key': \"e28f8f00d8msh8b311d8b975ce8ap1e7c99jsnda8667185302\",\n",
        "    'x-rapidapi-host': \"apidojo-yahoo-finance-v1.p.rapidapi.com\"\n",
        "    }\n",
        "\n",
        "response = requests.request(\"GET\", url, headers=headers, params=querystring)\n",
        "\n",
        "print(response.text)\n",
        "\n",
        "from datetime import datetime, timezone\n",
        "import datetime\n",
        "dtobj = datetime.datetime.fromtimestamp(1616600458, timezone.utc)\n",
        "\n",
        "print(dtobj-datetime.timedelta(5))"
      ],
      "execution_count": null,
      "outputs": [
        {
          "output_type": "stream",
          "text": [
            "{\"prices\":[{\"date\":1616601321,\"open\":122.81999969482422,\"high\":122.9000015258789,\"low\":121.11000061035156,\"close\":121.6500015258789,\"volume\":33065783,\"adjclose\":121.6500015258789},{\"date\":1616506200,\"open\":123.33000183105469,\"high\":124.23999786376953,\"low\":122.13999938964844,\"close\":122.54000091552734,\"volume\":95195700,\"adjclose\":122.54000091552734},{\"date\":1616419800,\"open\":120.33000183105469,\"high\":123.87000274658203,\"low\":120.26000213623047,\"close\":123.38999938964844,\"volume\":111912300,\"adjclose\":123.38999938964844},{\"date\":1616160600,\"open\":119.9000015258789,\"high\":121.43000030517578,\"low\":119.68000030517578,\"close\":119.98999786376953,\"volume\":185023200,\"adjclose\":119.98999786376953},{\"date\":1616074200,\"open\":122.87999725341797,\"high\":123.18000030517578,\"low\":120.31999969482422,\"close\":120.52999877929688,\"volume\":121229700,\"adjclose\":120.52999877929688},{\"date\":1615987800,\"open\":124.05000305175781,\"high\":125.86000061035156,\"low\":122.33999633789062,\"close\":124.76000213623047,\"volume\":111437500,\"adjclose\":124.76000213623047},{\"date\":1615901400,\"open\":125.69999694824219,\"high\":127.22000122070312,\"low\":124.72000122070312,\"close\":125.56999969482422,\"volume\":114740000,\"adjclose\":125.56999969482422},{\"date\":1615815000,\"open\":121.41000366210938,\"high\":124,\"low\":120.41999816894531,\"close\":123.98999786376953,\"volume\":92403800,\"adjclose\":123.98999786376953},{\"date\":1615559400,\"open\":120.4000015258789,\"high\":121.16999816894531,\"low\":119.16000366210938,\"close\":121.02999877929688,\"volume\":87963400,\"adjclose\":121.02999877929688},{\"date\":1615473000,\"open\":122.54000091552734,\"high\":123.20999908447266,\"low\":121.26000213623047,\"close\":121.95999908447266,\"volume\":102753600,\"adjclose\":121.95999908447266},{\"date\":1615386600,\"open\":121.69000244140625,\"high\":122.16999816894531,\"low\":119.44999694824219,\"close\":119.9800033569336,\"volume\":111760400,\"adjclose\":119.9800033569336},{\"date\":1615300200,\"open\":119.02999877929688,\"high\":122.05999755859375,\"low\":118.79000091552734,\"close\":121.08999633789062,\"volume\":129159600,\"adjclose\":121.08999633789062},{\"date\":1615213800,\"open\":120.93000030517578,\"high\":121,\"low\":116.20999908447266,\"close\":116.36000061035156,\"volume\":153918600,\"adjclose\":116.36000061035156},{\"date\":1614954600,\"open\":120.9800033569336,\"high\":121.94000244140625,\"low\":117.56999969482422,\"close\":121.41999816894531,\"volume\":153590400,\"adjclose\":121.41999816894531},{\"date\":1614868200,\"open\":121.75,\"high\":123.5999984741211,\"low\":118.62000274658203,\"close\":120.12999725341797,\"volume\":177275300,\"adjclose\":120.12999725341797},{\"date\":1614781800,\"open\":124.80999755859375,\"high\":125.70999908447266,\"low\":121.83999633789062,\"close\":122.05999755859375,\"volume\":112430400,\"adjclose\":122.05999755859375},{\"date\":1614695400,\"open\":128.41000366210938,\"high\":128.72000122070312,\"low\":125.01000213623047,\"close\":125.12000274658203,\"volume\":102015300,\"adjclose\":125.12000274658203},{\"date\":1614609000,\"open\":123.75,\"high\":127.93000030517578,\"low\":122.79000091552734,\"close\":127.79000091552734,\"volume\":115998300,\"adjclose\":127.79000091552734},{\"date\":1614349800,\"open\":122.58999633789062,\"high\":124.8499984741211,\"low\":121.19999694824219,\"close\":121.26000213623047,\"volume\":164320000,\"adjclose\":121.26000213623047},{\"date\":1614263400,\"open\":124.68000030517578,\"high\":126.45999908447266,\"low\":120.54000091552734,\"close\":120.98999786376953,\"volume\":148199500,\"adjclose\":120.98999786376953},{\"date\":1614177000,\"open\":124.94000244140625,\"high\":125.55999755859375,\"low\":122.2300033569336,\"close\":125.3499984741211,\"volume\":111039900,\"adjclose\":125.3499984741211},{\"date\":1614090600,\"open\":123.76000213623047,\"high\":126.70999908447266,\"low\":118.38999938964844,\"close\":125.86000061035156,\"volume\":158273000,\"adjclose\":125.86000061035156},{\"date\":1614004200,\"open\":128.00999450683594,\"high\":129.72000122070312,\"low\":125.5999984741211,\"close\":126,\"volume\":103916400,\"adjclose\":126},{\"date\":1613745000,\"open\":130.24000549316406,\"high\":130.7100067138672,\"low\":128.8000030517578,\"close\":129.8699951171875,\"volume\":87668800,\"adjclose\":129.8699951171875},{\"date\":1613658600,\"open\":129.1999969482422,\"high\":130,\"low\":127.41000366210938,\"close\":129.7100067138672,\"volume\":96856700,\"adjclose\":129.7100067138672},{\"date\":1613572200,\"open\":131.25,\"high\":132.22000122070312,\"low\":129.47000122070312,\"close\":130.83999633789062,\"volume\":97918500,\"adjclose\":130.83999633789062},{\"date\":1613485800,\"open\":135.49000549316406,\"high\":136.00999450683594,\"low\":132.7899932861328,\"close\":133.19000244140625,\"volume\":80576300,\"adjclose\":133.19000244140625},{\"date\":1613140200,\"open\":134.35000610351562,\"high\":135.52999877929688,\"low\":133.69000244140625,\"close\":135.3699951171875,\"volume\":60029300,\"adjclose\":135.3699951171875},{\"date\":1613053800,\"open\":135.89999389648438,\"high\":136.38999938964844,\"low\":133.77000427246094,\"close\":135.1300048828125,\"volume\":64154400,\"adjclose\":135.1300048828125},{\"date\":1612967400,\"open\":136.47999572753906,\"high\":136.99000549316406,\"low\":134.39999389648438,\"close\":135.38999938964844,\"volume\":73046600,\"adjclose\":135.38999938964844},{\"date\":1612881000,\"open\":136.6199951171875,\"high\":137.8800048828125,\"low\":135.85000610351562,\"close\":136.00999450683594,\"volume\":76774200,\"adjclose\":136.00999450683594},{\"date\":1612794600,\"open\":136.02999877929688,\"high\":136.9600067138672,\"low\":134.9199981689453,\"close\":136.91000366210938,\"volume\":71297200,\"adjclose\":136.91000366210938},{\"date\":1612535400,\"open\":137.35000610351562,\"high\":137.4199981689453,\"low\":135.86000061035156,\"close\":136.75999450683594,\"volume\":75524000,\"adjclose\":136.75999450683594},{\"amount\":0.205,\"date\":1612535400,\"type\":\"DIVIDEND\",\"data\":0.205},{\"date\":1612449000,\"open\":136.3000030517578,\"high\":137.39999389648438,\"low\":134.58999633789062,\"close\":137.38999938964844,\"volume\":84183100,\"adjclose\":137.18499755859375},{\"date\":1612362600,\"open\":135.75999450683594,\"high\":135.77000427246094,\"low\":133.61000061035156,\"close\":133.94000244140625,\"volume\":89880900,\"adjclose\":133.7401580810547},{\"date\":1612276200,\"open\":135.72999572753906,\"high\":136.30999755859375,\"low\":134.61000061035156,\"close\":134.99000549316406,\"volume\":83305400,\"adjclose\":134.78858947753906},{\"date\":1612189800,\"open\":133.75,\"high\":135.3800048828125,\"low\":130.92999267578125,\"close\":134.13999938964844,\"volume\":106239800,\"adjclose\":133.93984985351562},{\"date\":1611930600,\"open\":135.8300018310547,\"high\":136.74000549316406,\"low\":130.2100067138672,\"close\":131.9600067138672,\"volume\":177180600,\"adjclose\":131.7631072998047},{\"date\":1611844200,\"open\":139.52000427246094,\"high\":141.99000549316406,\"low\":136.6999969482422,\"close\":137.08999633789062,\"volume\":142621100,\"adjclose\":136.8854522705078},{\"date\":1611757800,\"open\":143.42999267578125,\"high\":144.3000030517578,\"low\":140.41000366210938,\"close\":142.05999755859375,\"volume\":140843800,\"adjclose\":141.84803771972656},{\"date\":1611671400,\"open\":143.60000610351562,\"high\":144.3000030517578,\"low\":141.3699951171875,\"close\":143.16000366210938,\"volume\":98390600,\"adjclose\":142.94639587402344},{\"date\":1611585000,\"open\":143.07000732421875,\"high\":145.08999633789062,\"low\":136.5399932861328,\"close\":142.9199981689453,\"volume\":157611700,\"adjclose\":142.70675659179688},{\"date\":1611325800,\"open\":136.27999877929688,\"high\":139.85000610351562,\"low\":135.02000427246094,\"close\":139.07000732421875,\"volume\":114459400,\"adjclose\":138.8625030517578},{\"date\":1611239400,\"open\":133.8000030517578,\"high\":139.6699981689453,\"low\":133.58999633789062,\"close\":136.8699951171875,\"volume\":120529500,\"adjclose\":136.665771484375},{\"date\":1611153000,\"open\":128.66000366210938,\"high\":132.49000549316406,\"low\":128.5500030517578,\"close\":132.02999877929688,\"volume\":104319500,\"adjclose\":131.83299255371094},{\"date\":1611066600,\"open\":127.77999877929688,\"high\":128.7100067138672,\"low\":126.94000244140625,\"close\":127.83000183105469,\"volume\":90757300,\"adjclose\":127.63926696777344},{\"date\":1610721000,\"open\":128.77999877929688,\"high\":130.22000122070312,\"low\":127,\"close\":127.13999938964844,\"volume\":111598500,\"adjclose\":126.9502944946289},{\"date\":1610634600,\"open\":130.8000030517578,\"high\":131,\"low\":128.75999450683594,\"close\":128.91000366210938,\"volume\":90221800,\"adjclose\":128.71766662597656},{\"date\":1610548200,\"open\":128.75999450683594,\"high\":131.4499969482422,\"low\":128.49000549316406,\"close\":130.88999938964844,\"volume\":88636800,\"adjclose\":130.6947021484375},{\"date\":1610461800,\"open\":128.5,\"high\":129.69000244140625,\"low\":126.86000061035156,\"close\":128.8000030517578,\"volume\":91951100,\"adjclose\":128.60781860351562},{\"date\":1610375400,\"open\":129.19000244140625,\"high\":130.1699981689453,\"low\":128.5,\"close\":128.97999572753906,\"volume\":100620900,\"adjclose\":128.7875518798828},{\"date\":1610116200,\"open\":132.42999267578125,\"high\":132.6300048828125,\"low\":130.22999572753906,\"close\":132.0500030517578,\"volume\":105158200,\"adjclose\":131.85296630859375},{\"date\":1610029800,\"open\":128.36000061035156,\"high\":131.6300048828125,\"low\":127.86000061035156,\"close\":130.9199981689453,\"volume\":109578200,\"adjclose\":130.7246551513672},{\"date\":1609943400,\"open\":127.72000122070312,\"high\":131.0500030517578,\"low\":126.37999725341797,\"close\":126.5999984741211,\"volume\":155088000,\"adjclose\":126.41110229492188},{\"date\":1609857000,\"open\":128.88999938964844,\"high\":131.74000549316406,\"low\":128.42999267578125,\"close\":131.00999450683594,\"volume\":97664900,\"adjclose\":130.81451416015625},{\"date\":1609770600,\"open\":133.52000427246094,\"high\":133.61000061035156,\"low\":126.76000213623047,\"close\":129.41000366210938,\"volume\":143301900,\"adjclose\":129.2169189453125},{\"date\":1609425000,\"open\":134.0800018310547,\"high\":134.74000549316406,\"low\":131.72000122070312,\"close\":132.69000244140625,\"volume\":99116600,\"adjclose\":132.4920196533203},{\"date\":1609338600,\"open\":135.5800018310547,\"high\":135.99000549316406,\"low\":133.39999389648438,\"close\":133.72000122070312,\"volume\":96452100,\"adjclose\":133.52047729492188},{\"date\":1609252200,\"open\":138.0500030517578,\"high\":138.7899932861328,\"low\":134.33999633789062,\"close\":134.8699951171875,\"volume\":121047300,\"adjclose\":134.66876220703125},{\"date\":1609165800,\"open\":133.99000549316406,\"high\":137.33999633789062,\"low\":133.50999450683594,\"close\":136.69000244140625,\"volume\":124486200,\"adjclose\":136.48605346679688},{\"date\":1608820200,\"open\":131.32000732421875,\"high\":133.4600067138672,\"low\":131.10000610351562,\"close\":131.97000122070312,\"volume\":54930100,\"adjclose\":131.77308654785156},{\"date\":1608733800,\"open\":132.16000366210938,\"high\":132.42999267578125,\"low\":130.77999877929688,\"close\":130.9600067138672,\"volume\":88223700,\"adjclose\":130.7646026611328},{\"date\":1608647400,\"open\":131.61000061035156,\"high\":134.41000366210938,\"low\":129.64999389648438,\"close\":131.8800048828125,\"volume\":168904800,\"adjclose\":131.6832275390625},{\"date\":1608561000,\"open\":125.0199966430664,\"high\":128.30999755859375,\"low\":123.44999694824219,\"close\":128.22999572753906,\"volume\":121251600,\"adjclose\":128.03866577148438},{\"date\":1608301800,\"open\":128.9600067138672,\"high\":129.10000610351562,\"low\":126.12000274658203,\"close\":126.66000366210938,\"volume\":192541500,\"adjclose\":126.47101593017578},{\"date\":1608215400,\"open\":128.89999389648438,\"high\":129.5800018310547,\"low\":128.0399932861328,\"close\":128.6999969482422,\"volume\":94359800,\"adjclose\":128.50796508789062},{\"date\":1608129000,\"open\":127.41000366210938,\"high\":128.3699951171875,\"low\":126.55999755859375,\"close\":127.80999755859375,\"volume\":98208600,\"adjclose\":127.61929321289062},{\"date\":1608042600,\"open\":124.33999633789062,\"high\":127.9000015258789,\"low\":124.12999725341797,\"close\":127.87999725341797,\"volume\":157572300,\"adjclose\":127.6891860961914},{\"date\":1607956200,\"open\":122.5999984741211,\"high\":123.3499984741211,\"low\":121.54000091552734,\"close\":121.77999877929688,\"volume\":79184500,\"adjclose\":121.5982894897461},{\"date\":1607697000,\"open\":122.43000030517578,\"high\":122.76000213623047,\"low\":120.55000305175781,\"close\":122.41000366210938,\"volume\":86939800,\"adjclose\":122.22735595703125},{\"date\":1607610600,\"open\":120.5,\"high\":123.87000274658203,\"low\":120.1500015258789,\"close\":123.23999786376953,\"volume\":81312200,\"adjclose\":123.05611419677734},{\"date\":1607524200,\"open\":124.52999877929688,\"high\":125.94999694824219,\"low\":121,\"close\":121.77999877929688,\"volume\":115089200,\"adjclose\":121.5982894897461},{\"date\":1607437800,\"open\":124.37000274658203,\"high\":124.9800033569336,\"low\":123.08999633789062,\"close\":124.37999725341797,\"volume\":82225500,\"adjclose\":124.19441223144531},{\"date\":1607351400,\"open\":122.30999755859375,\"high\":124.56999969482422,\"low\":122.25,\"close\":123.75,\"volume\":86712000,\"adjclose\":123.56535339355469},{\"date\":1607092200,\"open\":122.5999984741211,\"high\":122.86000061035156,\"low\":121.5199966430664,\"close\":122.25,\"volume\":78260400,\"adjclose\":122.06759643554688},{\"date\":1607005800,\"open\":123.5199966430664,\"high\":123.77999877929688,\"low\":122.20999908447266,\"close\":122.94000244140625,\"volume\":78967600,\"adjclose\":122.7565689086914},{\"date\":1606919400,\"open\":122.0199966430664,\"high\":123.37000274658203,\"low\":120.88999938964844,\"close\":123.08000183105469,\"volume\":89004200,\"adjclose\":122.89635467529297},{\"date\":1606833000,\"open\":121.01000213623047,\"high\":123.47000122070312,\"low\":120.01000213623047,\"close\":122.72000122070312,\"volume\":128166800,\"adjclose\":122.53689575195312},{\"date\":1606746600,\"open\":116.97000122070312,\"high\":120.97000122070312,\"low\":116.80999755859375,\"close\":119.05000305175781,\"volume\":169410200,\"adjclose\":118.87236785888672},{\"date\":1606487400,\"open\":116.56999969482422,\"high\":117.48999786376953,\"low\":116.22000122070312,\"close\":116.58999633789062,\"volume\":46691300,\"adjclose\":116.41603088378906},{\"date\":1606314600,\"open\":115.55000305175781,\"high\":116.75,\"low\":115.16999816894531,\"close\":116.02999877929688,\"volume\":76499200,\"adjclose\":115.85687255859375},{\"date\":1606228200,\"open\":113.91000366210938,\"high\":115.8499984741211,\"low\":112.58999633789062,\"close\":115.16999816894531,\"volume\":113874200,\"adjclose\":114.99815368652344},{\"date\":1606141800,\"open\":117.18000030517578,\"high\":117.62000274658203,\"low\":113.75,\"close\":113.8499984741211,\"volume\":127959300,\"adjclose\":113.68012237548828},{\"date\":1605882600,\"open\":118.63999938964844,\"high\":118.7699966430664,\"low\":117.29000091552734,\"close\":117.33999633789062,\"volume\":73604300,\"adjclose\":117.1649169921875},{\"date\":1605796200,\"open\":117.58999633789062,\"high\":119.05999755859375,\"low\":116.80999755859375,\"close\":118.63999938964844,\"volume\":74113000,\"adjclose\":118.46298217773438},{\"date\":1605709800,\"open\":118.61000061035156,\"high\":119.81999969482422,\"low\":118,\"close\":118.02999877929688,\"volume\":76322100,\"adjclose\":117.85388946533203},{\"date\":1605623400,\"open\":119.55000305175781,\"high\":120.66999816894531,\"low\":118.95999908447266,\"close\":119.38999938964844,\"volume\":74271000,\"adjclose\":119.21186065673828},{\"date\":1605537000,\"open\":118.91999816894531,\"high\":120.98999786376953,\"low\":118.1500015258789,\"close\":120.30000305175781,\"volume\":91183000,\"adjclose\":120.1205062866211},{\"date\":1605277800,\"open\":119.44000244140625,\"high\":119.66999816894531,\"low\":117.87000274658203,\"close\":119.26000213623047,\"volume\":81581900,\"adjclose\":119.0820541381836},{\"date\":1605191400,\"open\":119.62000274658203,\"high\":120.52999877929688,\"low\":118.56999969482422,\"close\":119.20999908447266,\"volume\":103162300,\"adjclose\":119.0321273803711},{\"date\":1605105000,\"open\":117.19000244140625,\"high\":119.62999725341797,\"low\":116.44000244140625,\"close\":119.48999786376953,\"volume\":112295000,\"adjclose\":119.31170654296875},{\"date\":1605018600,\"open\":115.55000305175781,\"high\":117.58999633789062,\"low\":114.12999725341797,\"close\":115.97000122070312,\"volume\":138023400,\"adjclose\":115.79696655273438},{\"date\":1604932200,\"open\":120.5,\"high\":121.98999786376953,\"low\":116.05000305175781,\"close\":116.31999969482422,\"volume\":154515300,\"adjclose\":116.14643859863281},{\"date\":1604673000,\"open\":118.31999969482422,\"high\":119.19999694824219,\"low\":116.12999725341797,\"close\":118.69000244140625,\"volume\":114457900,\"adjclose\":118.51290893554688},{\"amount\":0.205,\"date\":1604673000,\"type\":\"DIVIDEND\",\"data\":0.205},{\"date\":1604586600,\"open\":117.94999694824219,\"high\":119.62000274658203,\"low\":116.87000274658203,\"close\":119.02999877929688,\"volume\":126387100,\"adjclose\":118.64769744873047},{\"date\":1604500200,\"open\":114.13999938964844,\"high\":115.58999633789062,\"low\":112.3499984741211,\"close\":114.94999694824219,\"volume\":138235500,\"adjclose\":114.58080291748047},{\"date\":1604413800,\"open\":109.66000366210938,\"high\":111.48999786376953,\"low\":108.7300033569336,\"close\":110.44000244140625,\"volume\":107624400,\"adjclose\":110.08528900146484},{\"date\":1604327400,\"open\":109.11000061035156,\"high\":110.68000030517578,\"low\":107.31999969482422,\"close\":108.7699966430664,\"volume\":122866900,\"adjclose\":108.420654296875},{\"date\":1604064600,\"open\":111.05999755859375,\"high\":111.98999786376953,\"low\":107.72000122070312,\"close\":108.86000061035156,\"volume\":190272600,\"adjclose\":108.51036071777344},{\"date\":1603978200,\"open\":112.37000274658203,\"high\":116.93000030517578,\"low\":112.19999694824219,\"close\":115.31999969482422,\"volume\":146129200,\"adjclose\":114.94961547851562},{\"date\":1603891800,\"open\":115.05000305175781,\"high\":115.43000030517578,\"low\":111.0999984741211,\"close\":111.19999694824219,\"volume\":143937800,\"adjclose\":110.84284973144531},{\"date\":1603805400,\"open\":115.48999786376953,\"high\":117.27999877929688,\"low\":114.54000091552734,\"close\":116.5999984741211,\"volume\":92276800,\"adjclose\":116.22550964355469},{\"date\":1603719000,\"open\":114.01000213623047,\"high\":116.55000305175781,\"low\":112.87999725341797,\"close\":115.05000305175781,\"volume\":111850700,\"adjclose\":114.68048858642578},{\"date\":1603459800,\"open\":116.38999938964844,\"high\":116.55000305175781,\"low\":114.27999877929688,\"close\":115.04000091552734,\"volume\":82572600,\"adjclose\":114.67051696777344},{\"date\":1603373400,\"open\":117.44999694824219,\"high\":118.04000091552734,\"low\":114.58999633789062,\"close\":115.75,\"volume\":101988000,\"adjclose\":115.37823486328125},{\"date\":1603287000,\"open\":116.66999816894531,\"high\":118.70999908447266,\"low\":116.44999694824219,\"close\":116.87000274658203,\"volume\":89946000,\"adjclose\":116.49464416503906},{\"date\":1603200600,\"open\":116.19999694824219,\"high\":118.9800033569336,\"low\":115.62999725341797,\"close\":117.51000213623047,\"volume\":124423700,\"adjclose\":117.1325912475586},{\"date\":1603114200,\"open\":119.95999908447266,\"high\":120.41999816894531,\"low\":115.66000366210938,\"close\":115.9800033569336,\"volume\":120639300,\"adjclose\":115.60749816894531},{\"date\":1602855000,\"open\":121.27999877929688,\"high\":121.55000305175781,\"low\":118.80999755859375,\"close\":119.0199966430664,\"volume\":115393800,\"adjclose\":118.63772583007812},{\"date\":1602768600,\"open\":118.72000122070312,\"high\":121.19999694824219,\"low\":118.1500015258789,\"close\":120.70999908447266,\"volume\":112559200,\"adjclose\":120.32230377197266},{\"date\":1602682200,\"open\":121,\"high\":123.02999877929688,\"low\":119.62000274658203,\"close\":121.19000244140625,\"volume\":151062300,\"adjclose\":120.80076599121094},{\"date\":1602595800,\"open\":125.2699966430664,\"high\":125.38999938964844,\"low\":119.6500015258789,\"close\":121.0999984741211,\"volume\":262330500,\"adjclose\":120.71104431152344},{\"date\":1602509400,\"open\":120.05999755859375,\"high\":125.18000030517578,\"low\":119.27999877929688,\"close\":124.4000015258789,\"volume\":240226800,\"adjclose\":124.00045776367188},{\"date\":1602250200,\"open\":115.27999877929688,\"high\":117,\"low\":114.91999816894531,\"close\":116.97000122070312,\"volume\":100506900,\"adjclose\":116.59431457519531},{\"date\":1602163800,\"open\":116.25,\"high\":116.4000015258789,\"low\":114.58999633789062,\"close\":114.97000122070312,\"volume\":83477200,\"adjclose\":114.60073852539062},{\"date\":1602077400,\"open\":114.62000274658203,\"high\":115.55000305175781,\"low\":114.12999725341797,\"close\":115.08000183105469,\"volume\":96849000,\"adjclose\":114.71038818359375},{\"date\":1601991000,\"open\":115.69999694824219,\"high\":116.12000274658203,\"low\":112.25,\"close\":113.16000366210938,\"volume\":161498200,\"adjclose\":112.79655456542969},{\"date\":1601904600,\"open\":113.91000366210938,\"high\":116.6500015258789,\"low\":113.55000305175781,\"close\":116.5,\"volume\":106243800,\"adjclose\":116.12582397460938},{\"date\":1601645400,\"open\":112.88999938964844,\"high\":115.37000274658203,\"low\":112.22000122070312,\"close\":113.0199966430664,\"volume\":144712000,\"adjclose\":112.6570053100586},{\"date\":1601559000,\"open\":117.63999938964844,\"high\":117.72000122070312,\"low\":115.83000183105469,\"close\":116.79000091552734,\"volume\":116120400,\"adjclose\":116.4148941040039},{\"date\":1601472600,\"open\":113.79000091552734,\"high\":117.26000213623047,\"low\":113.62000274658203,\"close\":115.80999755859375,\"volume\":142675200,\"adjclose\":115.43804168701172},{\"date\":1601386200,\"open\":114.55000305175781,\"high\":115.30999755859375,\"low\":113.56999969482422,\"close\":114.08999633789062,\"volume\":99382200,\"adjclose\":113.72356414794922},{\"date\":1601299800,\"open\":115.01000213623047,\"high\":115.31999969482422,\"low\":112.77999877929688,\"close\":114.95999908447266,\"volume\":137672400,\"adjclose\":114.59076690673828},{\"date\":1601040600,\"open\":108.43000030517578,\"high\":112.44000244140625,\"low\":107.66999816894531,\"close\":112.27999877929688,\"volume\":149981400,\"adjclose\":111.91937255859375},{\"date\":1600954200,\"open\":105.16999816894531,\"high\":110.25,\"low\":105,\"close\":108.22000122070312,\"volume\":167743300,\"adjclose\":107.87242126464844},{\"date\":1600867800,\"open\":111.62000274658203,\"high\":112.11000061035156,\"low\":106.7699966430664,\"close\":107.12000274658203,\"volume\":150718700,\"adjclose\":106.77596282958984},{\"date\":1600781400,\"open\":112.68000030517578,\"high\":112.86000061035156,\"low\":109.16000366210938,\"close\":111.80999755859375,\"volume\":183055400,\"adjclose\":111.45088195800781},{\"date\":1600695000,\"open\":104.54000091552734,\"high\":110.19000244140625,\"low\":103.0999984741211,\"close\":110.08000183105469,\"volume\":195713800,\"adjclose\":109.72644805908203},{\"date\":1600435800,\"open\":110.4000015258789,\"high\":110.87999725341797,\"low\":106.08999633789062,\"close\":106.83999633789062,\"volume\":287104900,\"adjclose\":106.4968490600586},{\"date\":1600349400,\"open\":109.72000122070312,\"high\":112.19999694824219,\"low\":108.70999908447266,\"close\":110.33999633789062,\"volume\":178011000,\"adjclose\":109.98561096191406},{\"date\":1600263000,\"open\":115.2300033569336,\"high\":116,\"low\":112.04000091552734,\"close\":112.12999725341797,\"volume\":154679000,\"adjclose\":111.76985931396484},{\"date\":1600176600,\"open\":118.33000183105469,\"high\":118.83000183105469,\"low\":113.61000061035156,\"close\":115.54000091552734,\"volume\":184642000,\"adjclose\":115.16891479492188},{\"date\":1600090200,\"open\":114.72000122070312,\"high\":115.93000030517578,\"low\":112.80000305175781,\"close\":115.36000061035156,\"volume\":140150100,\"adjclose\":114.98948669433594},{\"date\":1599831000,\"open\":114.56999969482422,\"high\":115.2300033569336,\"low\":110,\"close\":112,\"volume\":180860300,\"adjclose\":111.6402816772461},{\"date\":1599744600,\"open\":120.36000061035156,\"high\":120.5,\"low\":112.5,\"close\":113.48999786376953,\"volume\":182274400,\"adjclose\":113.12549591064453},{\"date\":1599658200,\"open\":117.26000213623047,\"high\":119.13999938964844,\"low\":115.26000213623047,\"close\":117.31999969482422,\"volume\":176940500,\"adjclose\":116.94319152832031},{\"date\":1599571800,\"open\":113.94999694824219,\"high\":118.98999786376953,\"low\":112.68000030517578,\"close\":112.81999969482422,\"volume\":231366600,\"adjclose\":112.45764923095703},{\"date\":1599226200,\"open\":120.06999969482422,\"high\":123.69999694824219,\"low\":110.88999938964844,\"close\":120.95999908447266,\"volume\":332607200,\"adjclose\":120.57150268554688},{\"date\":1599139800,\"open\":126.91000366210938,\"high\":128.83999633789062,\"low\":120.5,\"close\":120.87999725341797,\"volume\":257599600,\"adjclose\":120.49175262451172},{\"date\":1599053400,\"open\":137.58999633789062,\"high\":137.97999572753906,\"low\":127,\"close\":131.39999389648438,\"volume\":200119000,\"adjclose\":130.97796630859375},{\"date\":1598967000,\"open\":132.75999450683594,\"high\":134.8000030517578,\"low\":130.52999877929688,\"close\":134.17999267578125,\"volume\":152470100,\"adjclose\":133.74903869628906},{\"date\":1598880600,\"open\":127.58000183105469,\"high\":131,\"low\":126,\"close\":129.0399932861328,\"volume\":225702700,\"adjclose\":128.62554931640625},{\"date\":1598880600,\"numerator\":4,\"denominator\":1,\"splitRatio\":\"4:1\",\"type\":\"SPLIT\",\"data\":\"4:1\"},{\"date\":1598621400,\"open\":126.01249694824219,\"high\":126.44249725341797,\"low\":124.57749938964844,\"close\":124.80750274658203,\"volume\":187630000,\"adjclose\":124.40664672851562},{\"date\":1598535000,\"open\":127.14250183105469,\"high\":127.48500061035156,\"low\":123.8324966430664,\"close\":125.01000213623047,\"volume\":155552400,\"adjclose\":124.6084976196289},{\"date\":1598448600,\"open\":126.18000030517578,\"high\":126.99250030517578,\"low\":125.0824966430664,\"close\":126.52249908447266,\"volume\":163022400,\"adjclose\":126.11613464355469},{\"date\":1598362200,\"open\":124.69750213623047,\"high\":125.18000030517578,\"low\":123.05249786376953,\"close\":124.82499694824219,\"volume\":211495600,\"adjclose\":124.42408752441406},{\"date\":1598275800,\"open\":128.69749450683594,\"high\":128.78500366210938,\"low\":123.9375,\"close\":125.85749816894531,\"volume\":345937600,\"adjclose\":125.4532699584961},{\"date\":1598016600,\"open\":119.26249694824219,\"high\":124.86750030517578,\"low\":119.25,\"close\":124.37000274658203,\"volume\":338054800,\"adjclose\":123.97055053710938},{\"date\":1597930200,\"open\":115.75,\"high\":118.39250183105469,\"low\":115.73249816894531,\"close\":118.2750015258789,\"volume\":126907200,\"adjclose\":117.89512634277344},{\"date\":1597843800,\"open\":115.98249816894531,\"high\":117.1624984741211,\"low\":115.61000061035156,\"close\":115.7074966430664,\"volume\":145538000,\"adjclose\":115.33586883544922},{\"date\":1597757400,\"open\":114.35250091552734,\"high\":116,\"low\":114.00749969482422,\"close\":115.5625,\"volume\":105633600,\"adjclose\":115.19133758544922},{\"date\":1597671000,\"open\":116.0625,\"high\":116.0875015258789,\"low\":113.9625015258789,\"close\":114.60749816894531,\"volume\":119561600,\"adjclose\":114.2394027709961},{\"date\":1597411800,\"open\":114.83000183105469,\"high\":115,\"low\":113.04499816894531,\"close\":114.90750122070312,\"volume\":165565200,\"adjclose\":114.53844451904297},{\"date\":1597325400,\"open\":114.43000030517578,\"high\":116.0425033569336,\"low\":113.92749786376953,\"close\":115.01000213623047,\"volume\":210082000,\"adjclose\":114.64060974121094},{\"date\":1597239000,\"open\":110.49749755859375,\"high\":113.2750015258789,\"low\":110.29750061035156,\"close\":113.01000213623047,\"volume\":165944800,\"adjclose\":112.64704132080078},{\"date\":1597152600,\"open\":111.97000122070312,\"high\":112.48249816894531,\"low\":109.10749816894531,\"close\":109.375,\"volume\":187902400,\"adjclose\":109.0237045288086},{\"date\":1597066200,\"open\":112.5999984741211,\"high\":113.7750015258789,\"low\":110,\"close\":112.72750091552734,\"volume\":212403600,\"adjclose\":112.36544799804688},{\"date\":1596807000,\"open\":113.20500183105469,\"high\":113.67500305175781,\"low\":110.2925033569336,\"close\":111.11250305175781,\"volume\":198045600,\"adjclose\":110.7556381225586},{\"amount\":0.205,\"date\":1596807000,\"type\":\"DIVIDEND\",\"data\":0.205},{\"date\":1596720600,\"open\":110.40499877929688,\"high\":114.4124984741211,\"low\":109.79750061035156,\"close\":113.90249633789062,\"volume\":202428800,\"adjclose\":113.33232879638672},{\"date\":1596634200,\"open\":109.37750244140625,\"high\":110.39250183105469,\"low\":108.89749908447266,\"close\":110.0625,\"volume\":121992000,\"adjclose\":109.51155090332031},{\"date\":1596547800,\"open\":109.13249969482422,\"high\":110.79000091552734,\"low\":108.38749694824219,\"close\":109.66500091552734,\"volume\":173071600,\"adjclose\":109.11604309082031},{\"date\":1596461400,\"open\":108.19999694824219,\"high\":111.63749694824219,\"low\":107.89250183105469,\"close\":108.9375,\"volume\":308151200,\"adjclose\":108.39218139648438},{\"date\":1596202200,\"open\":102.88500213623047,\"high\":106.41500091552734,\"low\":100.82499694824219,\"close\":106.26000213623047,\"volume\":374336800,\"adjclose\":105.72808837890625},{\"date\":1596115800,\"open\":94.1875,\"high\":96.29750061035156,\"low\":93.76750183105469,\"close\":96.19000244140625,\"volume\":158130000,\"adjclose\":95.70849609375},{\"date\":1596029400,\"open\":93.75,\"high\":95.2300033569336,\"low\":93.7125015258789,\"close\":95.04000091552734,\"volume\":90329200,\"adjclose\":94.56424713134766},{\"date\":1595943000,\"open\":94.36750030517578,\"high\":94.55000305175781,\"low\":93.24749755859375,\"close\":93.25250244140625,\"volume\":103625600,\"adjclose\":92.78570556640625},{\"date\":1595856600,\"open\":93.70999908447266,\"high\":94.90499877929688,\"low\":93.4800033569336,\"close\":94.80999755859375,\"volume\":121214000,\"adjclose\":94.33539581298828},{\"date\":1595597400,\"open\":90.98750305175781,\"high\":92.97000122070312,\"low\":89.1449966430664,\"close\":92.61499786376953,\"volume\":185438800,\"adjclose\":92.15138244628906},{\"date\":1595511000,\"open\":96.99749755859375,\"high\":97.07749938964844,\"low\":92.01000213623047,\"close\":92.84500122070312,\"volume\":197004400,\"adjclose\":92.38023376464844},{\"date\":1595424600,\"open\":96.69249725341797,\"high\":97.9749984741211,\"low\":96.60250091552734,\"close\":97.27249908447266,\"volume\":89001600,\"adjclose\":96.78556823730469},{\"date\":1595338200,\"open\":99.17250061035156,\"high\":99.25,\"low\":96.74250030517578,\"close\":97,\"volume\":103646000,\"adjclose\":96.51444244384766},{\"date\":1595251800,\"open\":96.4175033569336,\"high\":98.5,\"low\":96.0625,\"close\":98.35749816894531,\"volume\":90318000,\"adjclose\":97.86514282226562},{\"date\":1594992600,\"open\":96.98750305175781,\"high\":97.14749908447266,\"low\":95.83999633789062,\"close\":96.32749938964844,\"volume\":92186800,\"adjclose\":95.84529876708984},{\"date\":1594906200,\"open\":96.5625,\"high\":97.40499877929688,\"low\":95.90499877929688,\"close\":96.52249908447266,\"volume\":110577600,\"adjclose\":96.0393295288086},{\"date\":1594819800,\"open\":98.98999786376953,\"high\":99.24749755859375,\"low\":96.48999786376953,\"close\":97.7249984741211,\"volume\":153198000,\"adjclose\":97.23580932617188},{\"date\":1594733400,\"open\":94.83999633789062,\"high\":97.25499725341797,\"low\":93.87750244140625,\"close\":97.05750274658203,\"volume\":170989200,\"adjclose\":96.5716552734375},{\"date\":1594647000,\"open\":97.26499938964844,\"high\":99.95500183105469,\"low\":95.25749969482422,\"close\":95.47750091552734,\"volume\":191649200,\"adjclose\":94.99955749511719},{\"date\":1594387800,\"open\":95.33499908447266,\"high\":95.9800033569336,\"low\":94.70500183105469,\"close\":95.91999816894531,\"volume\":90257200,\"adjclose\":95.4398422241211},{\"date\":1594301400,\"open\":96.26249694824219,\"high\":96.31749725341797,\"low\":94.67250061035156,\"close\":95.75250244140625,\"volume\":125642800,\"adjclose\":95.273193359375},{\"date\":1594215000,\"open\":94.18000030517578,\"high\":95.375,\"low\":94.08999633789062,\"close\":95.34249877929688,\"volume\":117092000,\"adjclose\":94.865234375},{\"date\":1594128600,\"open\":93.85250091552734,\"high\":94.65499877929688,\"low\":93.05750274658203,\"close\":93.17250061035156,\"volume\":112424400,\"adjclose\":92.70609283447266},{\"date\":1594042200,\"open\":92.5,\"high\":93.94499969482422,\"low\":92.46749877929688,\"close\":93.4625015258789,\"volume\":118655600,\"adjclose\":92.9946517944336},{\"date\":1593696600,\"open\":91.9625015258789,\"high\":92.61750030517578,\"low\":90.91000366210938,\"close\":91.02749633789062,\"volume\":114041600,\"adjclose\":90.57183837890625},{\"date\":1593610200,\"open\":91.27999877929688,\"high\":91.83999633789062,\"low\":90.97750091552734,\"close\":91.02749633789062,\"volume\":110737200,\"adjclose\":90.57183837890625},{\"date\":1593523800,\"open\":90.0199966430664,\"high\":91.49500274658203,\"low\":90,\"close\":91.19999694824219,\"volume\":140223200,\"adjclose\":90.74346923828125},{\"date\":1593437400,\"open\":88.3125,\"high\":90.5425033569336,\"low\":87.81999969482422,\"close\":90.44499969482422,\"volume\":130646000,\"adjclose\":89.99225616455078},{\"date\":1593178200,\"open\":91.10250091552734,\"high\":91.33000183105469,\"low\":88.25499725341797,\"close\":88.40750122070312,\"volume\":205256800,\"adjclose\":87.96495056152344},{\"date\":1593091800,\"open\":90.17500305175781,\"high\":91.25,\"low\":89.39250183105469,\"close\":91.20999908447266,\"volume\":137522400,\"adjclose\":90.75342559814453},{\"date\":1593005400,\"open\":91.25,\"high\":92.19750213623047,\"low\":89.62999725341797,\"close\":90.01499938964844,\"volume\":192623200,\"adjclose\":89.56440734863281},{\"date\":1592919000,\"open\":91,\"high\":93.09500122070312,\"low\":90.56749725341797,\"close\":91.63249969482422,\"volume\":212155600,\"adjclose\":91.1738052368164},{\"date\":1592832600,\"open\":87.83499908447266,\"high\":89.86499786376953,\"low\":87.7874984741211,\"close\":89.71749877929688,\"volume\":135445200,\"adjclose\":89.26839447021484},{\"date\":1592573400,\"open\":88.66000366210938,\"high\":89.13999938964844,\"low\":86.2874984741211,\"close\":87.43000030517578,\"volume\":264476000,\"adjclose\":86.99234771728516},{\"date\":1592487000,\"open\":87.85250091552734,\"high\":88.36250305175781,\"low\":87.30500030517578,\"close\":87.93250274658203,\"volume\":96820400,\"adjclose\":87.4923324584961},{\"date\":1592400600,\"open\":88.7874984741211,\"high\":88.8499984741211,\"low\":87.77249908447266,\"close\":87.89749908447266,\"volume\":114406400,\"adjclose\":87.45750427246094},{\"date\":1592314200,\"open\":87.86499786376953,\"high\":88.30000305175781,\"low\":86.18000030517578,\"close\":88.0199966430664,\"volume\":165428800,\"adjclose\":87.57939147949219},{\"date\":1592227800,\"open\":83.3125,\"high\":86.41999816894531,\"low\":83.1449966430664,\"close\":85.74749755859375,\"volume\":138808800,\"adjclose\":85.3182601928711},{\"date\":1591968600,\"open\":86.18000030517578,\"high\":86.94999694824219,\"low\":83.55500030517578,\"close\":84.69999694824219,\"volume\":200146000,\"adjclose\":84.27600860595703},{\"date\":1591882200,\"open\":87.32749938964844,\"high\":87.76499938964844,\"low\":83.87000274658203,\"close\":83.9749984741211,\"volume\":201662400,\"adjclose\":83.55464172363281},{\"date\":1591795800,\"open\":86.9749984741211,\"high\":88.69249725341797,\"low\":86.52249908447266,\"close\":88.20999908447266,\"volume\":166651600,\"adjclose\":87.76844024658203},{\"date\":1591709400,\"open\":83.03500366210938,\"high\":86.40249633789062,\"low\":83.00250244140625,\"close\":85.99749755859375,\"volume\":147712400,\"adjclose\":85.56700897216797},{\"date\":1591623000,\"open\":82.5625,\"high\":83.4000015258789,\"low\":81.83000183105469,\"close\":83.36499786376953,\"volume\":95654400,\"adjclose\":82.94768524169922},{\"date\":1591363800,\"open\":80.8375015258789,\"high\":82.9375,\"low\":80.80750274658203,\"close\":82.875,\"volume\":137250400,\"adjclose\":82.46015167236328},{\"date\":1591277400,\"open\":81.09750366210938,\"high\":81.40499877929688,\"low\":80.19499969482422,\"close\":80.58000183105469,\"volume\":87560400,\"adjclose\":80.1766357421875},{\"date\":1591191000,\"open\":81.16500091552734,\"high\":81.55000305175781,\"low\":80.57499694824219,\"close\":81.27999877929688,\"volume\":104491200,\"adjclose\":80.87313079833984},{\"date\":1591104600,\"open\":80.1875,\"high\":80.86000061035156,\"low\":79.73249816894531,\"close\":80.83499908447266,\"volume\":87642800,\"adjclose\":80.43035125732422},{\"date\":1591018200,\"open\":79.4375,\"high\":80.5875015258789,\"low\":79.30249786376953,\"close\":80.4625015258789,\"volume\":80791200,\"adjclose\":80.05972290039062},{\"date\":1590759000,\"open\":79.8125,\"high\":80.2874984741211,\"low\":79.11750030517578,\"close\":79.48500061035156,\"volume\":153598000,\"adjclose\":79.08712005615234},{\"date\":1590672600,\"open\":79.19249725341797,\"high\":80.86000061035156,\"low\":78.90750122070312,\"close\":79.5625,\"volume\":133560800,\"adjclose\":79.16423034667969},{\"date\":1590586200,\"open\":79.03500366210938,\"high\":79.67749786376953,\"low\":78.27249908447266,\"close\":79.52749633789062,\"volume\":112945200,\"adjclose\":79.12940216064453},{\"date\":1590499800,\"open\":80.875,\"high\":81.05999755859375,\"low\":79.125,\"close\":79.18250274658203,\"volume\":125522000,\"adjclose\":78.7861328125},{\"date\":1590154200,\"open\":78.94249725341797,\"high\":79.80750274658203,\"low\":78.8375015258789,\"close\":79.72250366210938,\"volume\":81803200,\"adjclose\":79.32343292236328},{\"date\":1590067800,\"open\":79.66500091552734,\"high\":80.22250366210938,\"low\":78.96749877929688,\"close\":79.2125015258789,\"volume\":102688800,\"adjclose\":78.81597900390625},{\"date\":1589981400,\"open\":79.16999816894531,\"high\":79.87999725341797,\"low\":79.12999725341797,\"close\":79.80750274658203,\"volume\":111504800,\"adjclose\":79.40800476074219},{\"date\":1589895000,\"open\":78.75749969482422,\"high\":79.62999725341797,\"low\":78.25250244140625,\"close\":78.28500366210938,\"volume\":101729600,\"adjclose\":77.89312744140625},{\"date\":1589808600,\"open\":78.2925033569336,\"high\":79.125,\"low\":77.58000183105469,\"close\":78.73999786376953,\"volume\":135372400,\"adjclose\":78.3458480834961},{\"date\":1589549400,\"open\":75.0875015258789,\"high\":76.9749984741211,\"low\":75.05249786376953,\"close\":76.92749786376953,\"volume\":166348400,\"adjclose\":76.54241180419922},{\"date\":1589463000,\"open\":76.12750244140625,\"high\":77.44750213623047,\"low\":75.38249969482422,\"close\":77.38500213623047,\"volume\":158929200,\"adjclose\":76.99763488769531},{\"date\":1589376600,\"open\":78.0374984741211,\"high\":78.98750305175781,\"low\":75.80249786376953,\"close\":76.9124984741211,\"volume\":200622400,\"adjclose\":76.52749633789062},{\"date\":1589290200,\"open\":79.4574966430664,\"high\":79.92250061035156,\"low\":77.72750091552734,\"close\":77.85250091552734,\"volume\":162301200,\"adjclose\":77.4627914428711},{\"date\":1589203800,\"open\":77.0250015258789,\"high\":79.26249694824219,\"low\":76.80999755859375,\"close\":78.75250244140625,\"volume\":145946400,\"adjclose\":78.35828399658203},{\"date\":1588944600,\"open\":76.41000366210938,\"high\":77.5875015258789,\"low\":76.07250213623047,\"close\":77.53250122070312,\"volume\":134048000,\"adjclose\":77.14439392089844},{\"amount\":0.205,\"date\":1588944600,\"type\":\"DIVIDEND\",\"data\":0.205},{\"date\":1588858200,\"open\":75.80500030517578,\"high\":76.2925033569336,\"low\":75.49250030517578,\"close\":75.93499755859375,\"volume\":115215200,\"adjclose\":75.35091400146484},{\"date\":1588771800,\"open\":75.11499786376953,\"high\":75.80999755859375,\"low\":74.71749877929688,\"close\":75.15750122070312,\"volume\":142333600,\"adjclose\":74.57939147949219},{\"date\":1588685400,\"open\":73.76499938964844,\"high\":75.25,\"low\":73.61499786376953,\"close\":74.38999938964844,\"volume\":147751200,\"adjclose\":73.81780242919922},{\"date\":1588599000,\"open\":72.2925033569336,\"high\":73.42250061035156,\"low\":71.58000183105469,\"close\":73.29000091552734,\"volume\":133568000,\"adjclose\":72.72626495361328},{\"date\":1588339800,\"open\":71.5625,\"high\":74.75,\"low\":71.4625015258789,\"close\":72.26750183105469,\"volume\":240616800,\"adjclose\":71.71163177490234},{\"date\":1588253400,\"open\":72.48999786376953,\"high\":73.63249969482422,\"low\":72.0875015258789,\"close\":73.44999694824219,\"volume\":183064000,\"adjclose\":72.88502502441406},{\"date\":1588167000,\"open\":71.18250274658203,\"high\":72.4175033569336,\"low\":70.97250366210938,\"close\":71.93250274658203,\"volume\":137280800,\"adjclose\":71.37919616699219},{\"date\":1588080600,\"open\":71.2699966430664,\"high\":71.4574966430664,\"low\":69.55000305175781,\"close\":69.6449966430664,\"volume\":112004800,\"adjclose\":69.10929870605469},{\"date\":1587994200,\"open\":70.44999694824219,\"high\":71.13500213623047,\"low\":69.98750305175781,\"close\":70.7925033569336,\"volume\":117087600,\"adjclose\":70.24797058105469},{\"date\":1587735000,\"open\":69.30000305175781,\"high\":70.75250244140625,\"low\":69.25,\"close\":70.74250030517578,\"volume\":126508800,\"adjclose\":70.19834899902344},{\"date\":1587648600,\"open\":68.96749877929688,\"high\":70.4375,\"low\":68.71749877929688,\"close\":68.75749969482422,\"volume\":124814400,\"adjclose\":68.22862243652344},{\"date\":1587562200,\"open\":68.40249633789062,\"high\":69.4749984741211,\"low\":68.05000305175781,\"close\":69.0250015258789,\"volume\":117057200,\"adjclose\":68.49406433105469},{\"date\":1587475800,\"open\":69.06999969482422,\"high\":69.3125,\"low\":66.35749816894531,\"close\":67.09249877929688,\"volume\":180991600,\"adjclose\":66.57642364501953},{\"date\":1587389400,\"open\":69.48750305175781,\"high\":70.41999816894531,\"low\":69.2125015258789,\"close\":69.23249816894531,\"volume\":130015200,\"adjclose\":68.6999740600586},{\"date\":1587130200,\"open\":71.17250061035156,\"high\":71.73750305175781,\"low\":69.21499633789062,\"close\":70.69999694824219,\"volume\":215250000,\"adjclose\":70.15617370605469},{\"date\":1587043800,\"open\":71.84500122070312,\"high\":72.05000305175781,\"low\":70.5875015258789,\"close\":71.67250061035156,\"volume\":157125200,\"adjclose\":71.12120056152344},{\"date\":1586957400,\"open\":70.5999984741211,\"high\":71.5824966430664,\"low\":70.15750122070312,\"close\":71.10749816894531,\"volume\":131154400,\"adjclose\":70.56053924560547},{\"date\":1586871000,\"open\":70,\"high\":72.0625,\"low\":69.51249694824219,\"close\":71.76249694824219,\"volume\":194994800,\"adjclose\":71.21049499511719},{\"date\":1586784600,\"open\":67.07749938964844,\"high\":68.42500305175781,\"low\":66.4574966430664,\"close\":68.3125,\"volume\":131022800,\"adjclose\":67.78704071044922},{\"date\":1586439000,\"open\":67.17500305175781,\"high\":67.51750183105469,\"low\":66.17500305175781,\"close\":66.99749755859375,\"volume\":162116400,\"adjclose\":66.4821548461914},{\"date\":1586352600,\"open\":65.68499755859375,\"high\":66.84249877929688,\"low\":65.30750274658203,\"close\":66.51750183105469,\"volume\":168895200,\"adjclose\":66.00585174560547},{\"date\":1586266200,\"open\":67.69999694824219,\"high\":67.92500305175781,\"low\":64.75,\"close\":64.85749816894531,\"volume\":202887200,\"adjclose\":64.35862731933594},{\"date\":1586179800,\"open\":62.724998474121094,\"high\":65.77749633789062,\"low\":62.345001220703125,\"close\":65.61750030517578,\"volume\":201820400,\"adjclose\":65.1127700805664},{\"date\":1585920600,\"open\":60.70000076293945,\"high\":61.42499923706055,\"low\":59.74250030517578,\"close\":60.352500915527344,\"volume\":129880000,\"adjclose\":59.888275146484375},{\"date\":1585834200,\"open\":60.084999084472656,\"high\":61.287498474121094,\"low\":59.224998474121094,\"close\":61.23249816894531,\"volume\":165934000,\"adjclose\":60.76150131225586},{\"date\":1585747800,\"open\":61.625,\"high\":62.18000030517578,\"low\":59.782501220703125,\"close\":60.227500915527344,\"volume\":176218400,\"adjclose\":59.76424026489258},{\"date\":1585661400,\"open\":63.900001525878906,\"high\":65.62249755859375,\"low\":63,\"close\":63.5724983215332,\"volume\":197002000,\"adjclose\":63.08350372314453},{\"date\":1585575000,\"open\":62.685001373291016,\"high\":63.880001068115234,\"low\":62.349998474121094,\"close\":63.70249938964844,\"volume\":167976400,\"adjclose\":63.212501525878906},{\"date\":1585315800,\"open\":63.1875,\"high\":63.967498779296875,\"low\":61.76250076293945,\"close\":61.935001373291016,\"volume\":204216800,\"adjclose\":61.45860290527344},{\"date\":1585229400,\"open\":61.630001068115234,\"high\":64.66999816894531,\"low\":61.59000015258789,\"close\":64.61000061035156,\"volume\":252087200,\"adjclose\":64.11302947998047},{\"date\":1585143000,\"open\":62.6875,\"high\":64.5625,\"low\":61.07500076293945,\"close\":61.380001068115234,\"volume\":303602000,\"adjclose\":60.90787124633789},{\"date\":1585056600,\"open\":59.09000015258789,\"high\":61.92250061035156,\"low\":58.57500076293945,\"close\":61.720001220703125,\"volume\":287531200,\"adjclose\":61.24525833129883}],\"isPending\":false,\"firstTradeDate\":345479400,\"id\":\"\",\"timeZone\":{\"gmtOffset\":-14400},\"eventsData\":[{\"amount\":0.205,\"date\":1612535400,\"type\":\"DIVIDEND\",\"data\":0.205},{\"amount\":0.205,\"date\":1604673000,\"type\":\"DIVIDEND\",\"data\":0.205},{\"date\":1598880600,\"numerator\":4,\"denominator\":1,\"splitRatio\":\"4:1\",\"type\":\"SPLIT\",\"data\":\"4:1\"},{\"amount\":0.205,\"date\":1596807000,\"type\":\"DIVIDEND\",\"data\":0.205},{\"amount\":0.205,\"date\":1588944600,\"type\":\"DIVIDEND\",\"data\":0.205}]}\n",
            "2021-03-19 15:40:58+00:00\n"
          ],
          "name": "stdout"
        }
      ]
    },
    {
      "cell_type": "markdown",
      "metadata": {
        "id": "YT1b8nHlme9q"
      },
      "source": [
        "# Segregating training and testing data"
      ]
    },
    {
      "cell_type": "code",
      "metadata": {
        "id": "hyOXKWYcogUs"
      },
      "source": [
        "(total_rows, total_columns), rows_per_day = df.shape, list(df['x-axis'])[-1]\n",
        "\n",
        "df_train = df.iloc[:total_rows-rows_per_day]\n",
        "\n",
        "df_test = df.iloc[total_rows-rows_per_day:]"
      ],
      "execution_count": null,
      "outputs": []
    },
    {
      "cell_type": "code",
      "metadata": {
        "id": "rMhQUp9OnrFy"
      },
      "source": [
        ""
      ],
      "execution_count": null,
      "outputs": []
    }
  ]
}