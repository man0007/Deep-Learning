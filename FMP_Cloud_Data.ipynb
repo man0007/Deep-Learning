{
  "nbformat": 4,
  "nbformat_minor": 0,
  "metadata": {
    "colab": {
      "name": "FMP Cloud Data",
      "provenance": [],
      "collapsed_sections": [],
      "toc_visible": true,
      "include_colab_link": true
    },
    "kernelspec": {
      "display_name": "Python 3",
      "name": "python3"
    }
  },
  "cells": [
    {
      "cell_type": "markdown",
      "metadata": {
        "id": "view-in-github",
        "colab_type": "text"
      },
      "source": [
        "<a href=\"https://colab.research.google.com/github/man0007/Deep-Learning/blob/master/FMP_Cloud_Data.ipynb\" target=\"_parent\"><img src=\"https://colab.research.google.com/assets/colab-badge.svg\" alt=\"Open In Colab\"/></a>"
      ]
    },
    {
      "cell_type": "code",
      "metadata": {
        "id": "PtGcAS1Y3_Al"
      },
      "source": [
        "from  urllib.request import urlopen\n",
        "import json"
      ],
      "execution_count": null,
      "outputs": []
    },
    {
      "cell_type": "code",
      "metadata": {
        "id": "ErXG5oLC4M8g"
      },
      "source": [
        "url = \"https://fmpcloud.io/api/v4/historical-price/AAPL/1/minute/2021-03-15/2021-03-15?apikey=ec85650fb218c8bac0fd8b41d01fe624\"\n",
        "\n",
        "response = urlopen(url)\n",
        "\n",
        "data = json.loads(response.read())"
      ],
      "execution_count": null,
      "outputs": []
    },
    {
      "cell_type": "code",
      "metadata": {
        "id": "bV3d02ul6WZ4"
      },
      "source": [
        "from datetime import datetime\n",
        "count = 0\n",
        "stock_data_cumulative = {'open':[], 'high':[], 'low':[], 'close':[], 'volume':[], 'date':[], 'time':[], 't-diff':[]}\n",
        "for enm, value in enumerate(data['results']):\n",
        "  stock_data_cumulative['open'].append(value['o'])\n",
        "  stock_data_cumulative['high'].append(value['h'])\n",
        "  stock_data_cumulative['low'].append(value['l'])\n",
        "  stock_data_cumulative['close'].append(value['c'])\n",
        "  stock_data_cumulative['volume'].append(value['v'])\n",
        "  stock_data_cumulative['date'].append(value['formated'])\n",
        "  stock_data_cumulative['time'].append(value['t'])\n",
        "  if enm == 0:\n",
        "    stock_data_cumulative['t-diff'].append(0)\n",
        "  else:\n",
        "    stock_data_cumulative['t-diff'].append(value['t']-data['results'][enm-1]['t'])"
      ],
      "execution_count": null,
      "outputs": []
    },
    {
      "cell_type": "code",
      "metadata": {
        "colab": {
          "base_uri": "https://localhost:8080/"
        },
        "id": "CdYzD1QllhIQ",
        "outputId": "cc9c83ac-5b6d-4abe-b20d-56e5014d0822"
      },
      "source": [
        "reptd_t_diff = max(set(stock_data_cumulative['t-diff']), key = stock_data_cumulative['t-diff'].count)\n",
        "print(reptd_t_diff)"
      ],
      "execution_count": null,
      "outputs": [
        {
          "output_type": "execute_result",
          "data": {
            "text/plain": [
              "60000"
            ]
          },
          "metadata": {
            "tags": []
          },
          "execution_count": 95
        }
      ]
    },
    {
      "cell_type": "code",
      "metadata": {
        "colab": {
          "base_uri": "https://localhost:8080/"
        },
        "id": "VAgTk4RQ6VL4",
        "outputId": "ed1d438a-809b-41cf-96b6-44498042803f"
      },
      "source": [
        "import pandas as pd\n",
        "df = pd.DataFrame.from_dict(stock_data_cumulative)\n",
        "print(df.head(20))"
      ],
      "execution_count": null,
      "outputs": [
        {
          "output_type": "stream",
          "text": [
            "      open    high     low  ...                 date           time  t-diff\n",
            "0   121.00  121.00  120.97  ...  2021-03-15 04:00:00  1615795200000       0\n",
            "1   120.80  120.80  120.80  ...  2021-03-15 04:01:00  1615795260000   60000\n",
            "2   120.70  120.70  120.61  ...  2021-03-15 04:02:00  1615795320000   60000\n",
            "3   120.79  120.99  120.79  ...  2021-03-15 04:05:00  1615795500000  180000\n",
            "4   120.96  121.00  120.96  ...  2021-03-15 04:06:00  1615795560000   60000\n",
            "5   121.07  121.50  121.07  ...  2021-03-15 04:07:00  1615795620000   60000\n",
            "6   121.32  121.32  121.30  ...  2021-03-15 04:08:00  1615795680000   60000\n",
            "7   121.31  121.32  121.31  ...  2021-03-15 04:09:00  1615795740000   60000\n",
            "8   121.20  121.20  121.20  ...  2021-03-15 04:11:00  1615795860000  120000\n",
            "9   121.18  121.18  121.18  ...  2021-03-15 04:13:00  1615795980000  120000\n",
            "10  121.17  121.17  121.17  ...  2021-03-15 04:14:00  1615796040000   60000\n",
            "11  121.17  121.20  121.17  ...  2021-03-15 04:15:00  1615796100000   60000\n",
            "12  121.24  121.24  121.24  ...  2021-03-15 04:16:00  1615796160000   60000\n",
            "13  121.22  121.22  121.20  ...  2021-03-15 04:18:00  1615796280000  120000\n",
            "14  121.19  121.19  121.19  ...  2021-03-15 04:20:00  1615796400000  120000\n",
            "15  121.24  121.24  121.24  ...  2021-03-15 04:21:00  1615796460000   60000\n",
            "16  121.27  121.50  121.27  ...  2021-03-15 04:31:00  1615797060000  600000\n",
            "17  121.49  121.50  121.49  ...  2021-03-15 04:32:00  1615797120000   60000\n",
            "18  121.35  121.35  121.32  ...  2021-03-15 04:33:00  1615797180000   60000\n",
            "19  121.25  121.25  121.25  ...  2021-03-15 04:34:00  1615797240000   60000\n",
            "\n",
            "[20 rows x 8 columns]\n"
          ],
          "name": "stdout"
        }
      ]
    },
    {
      "cell_type": "code",
      "metadata": {
        "id": "Z4qfFkTgFNLA"
      },
      "source": [
        "a=0\n",
        "for i in list(df['t-diff']):\n",
        "  a = a+((i/reptd_t_diff))\n",
        "print(a)"
      ],
      "execution_count": null,
      "outputs": []
    },
    {
      "cell_type": "code",
      "metadata": {
        "id": "V1rMklFBlTav"
      },
      "source": [
        "print('Anand')"
      ],
      "execution_count": null,
      "outputs": []
    }
  ]
}